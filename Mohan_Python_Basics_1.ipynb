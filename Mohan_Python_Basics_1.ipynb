{
 "cells": [
  {
   "cell_type": "markdown",
   "id": "562fa4f2-9f23-4855-93c5-035996959965",
   "metadata": {},
   "source": [
    "1. Python Keywords"
   ]
  },
  {
   "cell_type": "code",
   "execution_count": 4,
   "id": "5a65e9f0-2a1f-4027-ae3f-ee2041c978aa",
   "metadata": {},
   "outputs": [
    {
     "name": "stdout",
     "output_type": "stream",
     "text": [
      "['False', 'None', 'True', 'and', 'as', 'assert', 'async', 'await', 'break', 'class', 'continue', 'def', 'del', 'elif', 'else', 'except', 'finally', 'for', 'from', 'global', 'if', 'import', 'in', 'is', 'lambda', 'nonlocal', 'not', 'or', 'pass', 'raise', 'return', 'try', 'while', 'with', 'yield']\n",
      "True\n"
     ]
    }
   ],
   "source": [
    "import keyword\n",
    "print(keyword.kwlist)\n",
    "print(keyword.iskeyword(\"None\"))"
   ]
  },
  {
   "cell_type": "code",
   "execution_count": 7,
   "id": "0c3ea6b2-7455-47db-997d-12733b774a46",
   "metadata": {},
   "outputs": [
    {
     "name": "stdout",
     "output_type": "stream",
     "text": [
      "Total Keywords in Python are  35\n"
     ]
    }
   ],
   "source": [
    "print(\"Total Keywords in Python are \",len(keyword.kwlist))"
   ]
  },
  {
   "cell_type": "markdown",
   "id": "3a22de05-3919-4022-84b4-a776dc96b51c",
   "metadata": {},
   "source": [
    "2. Identifiers"
   ]
  },
  {
   "cell_type": "code",
   "execution_count": 8,
   "id": "1966055d-2690-488d-b6fb-015613e8c179",
   "metadata": {},
   "outputs": [
    {
     "ename": "SyntaxError",
     "evalue": "invalid syntax (<ipython-input-8-4e5abcb0cb98>, line 1)",
     "output_type": "error",
     "traceback": [
      "\u001b[1;36m  File \u001b[1;32m\"<ipython-input-8-4e5abcb0cb98>\"\u001b[1;36m, line \u001b[1;32m1\u001b[0m\n\u001b[1;33m    1stringVal=\"Text Value\"\u001b[0m\n\u001b[1;37m     ^\u001b[0m\n\u001b[1;31mSyntaxError\u001b[0m\u001b[1;31m:\u001b[0m invalid syntax\n"
     ]
    }
   ],
   "source": [
    "1stringVal=\"Text Value\"\n",
    "print(1stringVal)"
   ]
  },
  {
   "cell_type": "code",
   "execution_count": 9,
   "id": "76210929-6e5e-4b87-a522-22f36e11b702",
   "metadata": {},
   "outputs": [
    {
     "name": "stdout",
     "output_type": "stream",
     "text": [
      "Text Value\n"
     ]
    }
   ],
   "source": [
    "tringVal1=\"Text Value\"\n",
    "print(tringVal1)"
   ]
  },
  {
   "cell_type": "markdown",
   "id": "4aca9953-90e8-42f5-86e9-1141bbf6f0c8",
   "metadata": {},
   "source": [
    "3. Comments in Python"
   ]
  },
  {
   "cell_type": "code",
   "execution_count": 10,
   "id": "8a7164f6-5dcf-4ee0-a6e0-cb1589807f7a",
   "metadata": {},
   "outputs": [],
   "source": [
    "#Single Line Comments\n",
    "textVal=10"
   ]
  },
  {
   "cell_type": "code",
   "execution_count": 11,
   "id": "3b03eff4-132d-4a54-a7c4-f1743a25ad05",
   "metadata": {},
   "outputs": [],
   "source": [
    "#Mulit Line1\n",
    "#Multi Line2\n",
    "#Multi Line3"
   ]
  },
  {
   "cell_type": "code",
   "execution_count": 13,
   "id": "48405745-484c-4666-9e58-9297a6736f13",
   "metadata": {},
   "outputs": [
    {
     "data": {
      "text/plain": [
       "'\\nMulti Line1\\nMulti Line2\\nMulti Line3\\n'"
      ]
     },
     "execution_count": 13,
     "metadata": {},
     "output_type": "execute_result"
    }
   ],
   "source": [
    "'''\n",
    "Multi Line1\n",
    "Multi Line2\n",
    "Multi Line3\n",
    "'''"
   ]
  },
  {
   "cell_type": "markdown",
   "id": "34170aa0-4fcf-460d-b68e-aaa91f7b76f8",
   "metadata": {},
   "source": [
    "DocString"
   ]
  },
  {
   "cell_type": "code",
   "execution_count": 14,
   "id": "919fbe4d-2fc1-41de-b32f-62bbad50c142",
   "metadata": {},
   "outputs": [
    {
     "name": "stdout",
     "output_type": "stream",
     "text": [
      "400\n"
     ]
    }
   ],
   "source": [
    "def square(num):\n",
    "    \"\"\"\n",
    "    Function to square a number. \n",
    "    Print this docstring using __doc__ attribute of the function\n",
    "    \"\"\"\n",
    "    return num * num\n",
    "\n",
    "print(square(20))"
   ]
  },
  {
   "cell_type": "code",
   "execution_count": 16,
   "id": "90c2e044-34c7-4f62-8d06-8b260a0939ef",
   "metadata": {},
   "outputs": [
    {
     "name": "stdout",
     "output_type": "stream",
     "text": [
      "\n",
      "    Function to square a number. \n",
      "    Print this docstring using __doc__ attribute of the function\n",
      "    \n"
     ]
    }
   ],
   "source": [
    "print(square.__doc__)"
   ]
  },
  {
   "cell_type": "code",
   "execution_count": null,
   "id": "fd283c3a-6781-44af-a89b-2da4f4dc3ebe",
   "metadata": {},
   "outputs": [],
   "source": []
  }
 ],
 "metadata": {
  "kernelspec": {
   "display_name": "Python 3",
   "language": "python",
   "name": "python3"
  },
  "language_info": {
   "codemirror_mode": {
    "name": "ipython",
    "version": 3
   },
   "file_extension": ".py",
   "mimetype": "text/x-python",
   "name": "python",
   "nbconvert_exporter": "python",
   "pygments_lexer": "ipython3",
   "version": "3.8.8"
  }
 },
 "nbformat": 4,
 "nbformat_minor": 5
}
