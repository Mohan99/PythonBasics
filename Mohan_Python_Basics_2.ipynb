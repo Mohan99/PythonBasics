{
 "cells": [
  {
   "cell_type": "markdown",
   "id": "0b4bced6-6b22-45b5-b071-789eabf89aa4",
   "metadata": {},
   "source": [
    "Variables (Variable assignments)"
   ]
  },
  {
   "cell_type": "code",
   "execution_count": 1,
   "id": "9ad01164-5113-4bd1-8265-cc2b92afb8a7",
   "metadata": {},
   "outputs": [
    {
     "name": "stdout",
     "output_type": "stream",
     "text": [
      "10 2.34 Text Strng Val\n"
     ]
    }
   ],
   "source": [
    "intVal=10\n",
    "floatVal=2.34\n",
    "stringVal=\"Text Strng Val\"\n",
    "print(intVal,floatVal,stringVal)"
   ]
  },
  {
   "cell_type": "markdown",
   "id": "fe565280-10d7-4920-b721-15a5c81b79f7",
   "metadata": {},
   "source": [
    "Multiple assignments"
   ]
  },
  {
   "cell_type": "code",
   "execution_count": 3,
   "id": "63a74c82-0c2f-4537-926d-ddddbe632733",
   "metadata": {},
   "outputs": [
    {
     "name": "stdout",
     "output_type": "stream",
     "text": [
      "20 34.45 Text Value2\n"
     ]
    }
   ],
   "source": [
    "intVal1,floatVal1,stringVal1=20,34.45,\"Text Value2\"\n",
    "print(intVal1,floatVal1,stringVal1)"
   ]
  },
  {
   "cell_type": "markdown",
   "id": "c2d23541-b757-4009-8878-4f63b1a4905a",
   "metadata": {},
   "source": [
    "Storage Locations(Reference values)"
   ]
  },
  {
   "cell_type": "code",
   "execution_count": 8,
   "id": "541e478e-0e1b-4559-adbd-6098cd5a6372",
   "metadata": {},
   "outputs": [
    {
     "name": "stdout",
     "output_type": "stream",
     "text": [
      "140726635868720\n",
      "140726635868720\n",
      "140726635868688\n"
     ]
    }
   ],
   "source": [
    "integereValue1=89\n",
    "print(id(integereValue1))\n",
    "integereValue2=89\n",
    "print(id(integereValue2))\n",
    "integereValue2=88\n",
    "print(id(integereValue2))"
   ]
  },
  {
   "cell_type": "markdown",
   "id": "e39b141d-f93e-4afb-bb44-f88b3f339484",
   "metadata": {},
   "source": [
    "Data Types"
   ]
  },
  {
   "cell_type": "code",
   "execution_count": 9,
   "id": "696ecb53-9530-4235-b326-1f7a6ffe8113",
   "metadata": {},
   "outputs": [
    {
     "name": "stdout",
     "output_type": "stream",
     "text": [
      "89  is type of  <class 'int'>\n"
     ]
    }
   ],
   "source": [
    "print(integereValue1,\" is type of \",type(integereValue1))"
   ]
  },
  {
   "cell_type": "code",
   "execution_count": 11,
   "id": "fd2bb5c8-41b4-4942-9094-9cc796be8a97",
   "metadata": {},
   "outputs": [
    {
     "name": "stdout",
     "output_type": "stream",
     "text": [
      "Test Value  is type of  <class 'str'>\n"
     ]
    }
   ],
   "source": [
    "stringValue2=\"Test Value\"\n",
    "print(stringValue2,\" is type of \",type(stringValue2))"
   ]
  },
  {
   "cell_type": "code",
   "execution_count": 16,
   "id": "bb27b184-c766-46e5-81f8-3d7c37d33eae",
   "metadata": {},
   "outputs": [
    {
     "name": "stdout",
     "output_type": "stream",
     "text": [
      "(10+20j)\n",
      "<class 'complex'>\n",
      "(10+20j)  is complex number?  True\n",
      "(10+20j)  is String ?  False\n"
     ]
    }
   ],
   "source": [
    "complexTest=10+20j\n",
    "print(complexTest)\n",
    "print(type(complexTest))\n",
    "print(complexTest,\" is complex number? \",isinstance(complexTest,complex))\n",
    "print(complexTest,\" is String ? \",isinstance(complexTest,str))"
   ]
  },
  {
   "cell_type": "code",
   "execution_count": 18,
   "id": "542a05e1-78c1-40ca-a166-00effbd4416f",
   "metadata": {},
   "outputs": [
    {
     "name": "stdout",
     "output_type": "stream",
     "text": [
      "<class 'bool'>\n"
     ]
    }
   ],
   "source": [
    "booleanVariable=True\n",
    "print(type(booleanVariable))"
   ]
  },
  {
   "cell_type": "code",
   "execution_count": null,
   "id": "7fcfd5c5-8ec3-4364-ae68-3fa483e5472d",
   "metadata": {},
   "outputs": [],
   "source": []
  },
  {
   "cell_type": "markdown",
   "id": "53dd0d07-b349-4ee1-9d03-e67e9ab3fd24",
   "metadata": {},
   "source": [
    "String Types"
   ]
  },
  {
   "cell_type": "code",
   "execution_count": 19,
   "id": "b90a7abe-799c-4966-9312-c8e8fc5100fd",
   "metadata": {},
   "outputs": [
    {
     "name": "stdout",
     "output_type": "stream",
     "text": [
      "Data Science with Python\n"
     ]
    }
   ],
   "source": [
    "stringVariable=\"Data Science with Python\"\n",
    "print(stringVariable)"
   ]
  },
  {
   "cell_type": "code",
   "execution_count": 20,
   "id": "3898f976-df77-475b-9839-385ba5e8482b",
   "metadata": {},
   "outputs": [
    {
     "name": "stdout",
     "output_type": "stream",
     "text": [
      "First Character in the stringVariable = D\n"
     ]
    }
   ],
   "source": [
    "print(\"First Character in the stringVariable =\",stringVariable[0])"
   ]
  },
  {
   "cell_type": "markdown",
   "id": "d476ce99-e3c3-4651-8529-d0903e46482b",
   "metadata": {},
   "source": [
    "Slicing of Strings"
   ]
  },
  {
   "cell_type": "code",
   "execution_count": 21,
   "id": "96eaf948-2527-4144-8dd6-d3d03e04a24e",
   "metadata": {},
   "outputs": [
    {
     "name": "stdout",
     "output_type": "stream",
     "text": [
      "Data Scie\n"
     ]
    }
   ],
   "source": [
    "print(stringVariable[0:9])"
   ]
  },
  {
   "cell_type": "code",
   "execution_count": 22,
   "id": "1414bc4f-c2d2-47cf-95ed-5b69c8b8ccea",
   "metadata": {},
   "outputs": [
    {
     "name": "stdout",
     "output_type": "stream",
     "text": [
      "Data Scie\n"
     ]
    }
   ],
   "source": [
    "print(stringVariable[:9])"
   ]
  },
  {
   "cell_type": "code",
   "execution_count": 23,
   "id": "c4c911c6-eebc-4401-8979-1c4739ba5f27",
   "metadata": {},
   "outputs": [
    {
     "name": "stdout",
     "output_type": "stream",
     "text": [
      "ta Science with Python\n"
     ]
    }
   ],
   "source": [
    "print(stringVariable[2:])"
   ]
  },
  {
   "cell_type": "code",
   "execution_count": 25,
   "id": "915253a9-4286-40df-a049-7b5c22fc187f",
   "metadata": {},
   "outputs": [
    {
     "name": "stdout",
     "output_type": "stream",
     "text": [
      "Data Science with Pytho\n"
     ]
    }
   ],
   "source": [
    "print(stringVariable[0:len(stringVariable)-1])"
   ]
  },
  {
   "cell_type": "code",
   "execution_count": null,
   "id": "4a982cfe-07be-402f-bd2f-0da1fa648d0b",
   "metadata": {},
   "outputs": [],
   "source": []
  },
  {
   "cell_type": "markdown",
   "id": "4dec84f5-2968-4d94-816d-bc9b115b277f",
   "metadata": {},
   "source": [
    "Python List"
   ]
  },
  {
   "cell_type": "code",
   "execution_count": 29,
   "id": "675e7020-2143-4d58-a036-409f3961f56d",
   "metadata": {},
   "outputs": [
    {
     "name": "stdout",
     "output_type": "stream",
     "text": [
      "[1, 2, 3.42, 'String Element1', 89, 564.67]\n",
      "89\n"
     ]
    }
   ],
   "source": [
    "myList=[1,2,3.42,\"String Element1\",89,564.67]\n",
    "print(myList)\n",
    "print(myList[4])"
   ]
  },
  {
   "cell_type": "code",
   "execution_count": 30,
   "id": "0aeff741-0166-454c-816a-bee83b2794d5",
   "metadata": {},
   "outputs": [
    {
     "name": "stdout",
     "output_type": "stream",
     "text": [
      "[1, 2, 3.42, 'String Element Changed', 89, 564.67]\n"
     ]
    }
   ],
   "source": [
    "myList[3]=\"String Element Changed\"\n",
    "print(myList)"
   ]
  },
  {
   "cell_type": "code",
   "execution_count": 33,
   "id": "2ae38b08-ffe7-4697-b4d6-da5ccfe7a752",
   "metadata": {},
   "outputs": [
    {
     "name": "stdout",
     "output_type": "stream",
     "text": [
      "[564.67, 89, 'String Element Changed', 3.42, 2, 1]\n"
     ]
    }
   ],
   "source": [
    "myList.reverse()      #Reversing List\n",
    "print(myList)"
   ]
  },
  {
   "cell_type": "code",
   "execution_count": 34,
   "id": "3c94dad3-83fe-4cc6-bdee-3b27679a69e3",
   "metadata": {},
   "outputs": [
    {
     "name": "stdout",
     "output_type": "stream",
     "text": [
      "[564.67, 89, 'String Element Changed', 2, 1]\n"
     ]
    }
   ],
   "source": [
    "myList.remove(3.42)  #Removing by Value\n",
    "print(myList)"
   ]
  },
  {
   "cell_type": "code",
   "execution_count": 35,
   "id": "ac836785-2576-49d7-bbb4-b83650f714f8",
   "metadata": {},
   "outputs": [
    {
     "ename": "ValueError",
     "evalue": "list.remove(x): x not in list",
     "output_type": "error",
     "traceback": [
      "\u001b[1;31m---------------------------------------------------------------------------\u001b[0m",
      "\u001b[1;31mValueError\u001b[0m                                Traceback (most recent call last)",
      "\u001b[1;32m<ipython-input-35-6356d6106542>\u001b[0m in \u001b[0;36m<module>\u001b[1;34m\u001b[0m\n\u001b[1;32m----> 1\u001b[1;33m \u001b[0mmyList\u001b[0m\u001b[1;33m.\u001b[0m\u001b[0mremove\u001b[0m\u001b[1;33m(\u001b[0m\u001b[1;36m3.42\u001b[0m\u001b[1;33m)\u001b[0m  \u001b[1;31m#Removing by Value\u001b[0m\u001b[1;33m\u001b[0m\u001b[1;33m\u001b[0m\u001b[0m\n\u001b[0m\u001b[0;32m      2\u001b[0m \u001b[0mprint\u001b[0m\u001b[1;33m(\u001b[0m\u001b[0mmyList\u001b[0m\u001b[1;33m)\u001b[0m\u001b[1;33m\u001b[0m\u001b[1;33m\u001b[0m\u001b[0m\n",
      "\u001b[1;31mValueError\u001b[0m: list.remove(x): x not in list"
     ]
    }
   ],
   "source": [
    "myList.remove(3.42)  #Removing by Value\n",
    "print(myList)"
   ]
  },
  {
   "cell_type": "code",
   "execution_count": 37,
   "id": "065dcc8c-8c02-4601-80a3-857d21bdb27a",
   "metadata": {},
   "outputs": [
    {
     "name": "stdout",
     "output_type": "stream",
     "text": [
      "[564.67, 89, 'String Element Changed', 1]\n"
     ]
    }
   ],
   "source": [
    "myList.pop(3)  #Removing by index\n",
    "print(myList)"
   ]
  },
  {
   "cell_type": "code",
   "execution_count": 38,
   "id": "b5539510-fe6e-48d9-b1c3-900673c45335",
   "metadata": {},
   "outputs": [
    {
     "name": "stdout",
     "output_type": "stream",
     "text": [
      "[564.67, 89, 'String Element Changed', 1, 'Value Appended']\n"
     ]
    }
   ],
   "source": [
    "myList.append(\"Value Appended\")  #Appending value\n",
    "print(myList)"
   ]
  },
  {
   "cell_type": "code",
   "execution_count": null,
   "id": "19f20cc3-6e0a-4b27-8e3e-349c0644f676",
   "metadata": {},
   "outputs": [],
   "source": []
  },
  {
   "cell_type": "markdown",
   "id": "0202e8bd-9f3c-4df6-9ab9-ac765151a475",
   "metadata": {},
   "source": [
    "Python Tuples"
   ]
  },
  {
   "cell_type": "code",
   "execution_count": 40,
   "id": "6dc581db-cd62-4d6b-9a5e-8d77fb5d4647",
   "metadata": {},
   "outputs": [
    {
     "name": "stdout",
     "output_type": "stream",
     "text": [
      "(10, 20, 40.4, 'String Val')\n"
     ]
    }
   ],
   "source": [
    "myTuple=(10,20,40.4,\"String Val\")\n",
    "print(myTuple)"
   ]
  },
  {
   "cell_type": "code",
   "execution_count": 41,
   "id": "3abac537-5e0d-4dbe-a766-601603af631b",
   "metadata": {},
   "outputs": [
    {
     "name": "stdout",
     "output_type": "stream",
     "text": [
      "String Val\n"
     ]
    }
   ],
   "source": [
    "print(myTuple[3])"
   ]
  },
  {
   "cell_type": "code",
   "execution_count": 42,
   "id": "3a5fb099-5e5a-4627-83c2-575055ec9060",
   "metadata": {},
   "outputs": [
    {
     "ename": "IndexError",
     "evalue": "tuple index out of range",
     "output_type": "error",
     "traceback": [
      "\u001b[1;31m---------------------------------------------------------------------------\u001b[0m",
      "\u001b[1;31mIndexError\u001b[0m                                Traceback (most recent call last)",
      "\u001b[1;32m<ipython-input-42-7824126c3ca1>\u001b[0m in \u001b[0;36m<module>\u001b[1;34m\u001b[0m\n\u001b[1;32m----> 1\u001b[1;33m \u001b[0mprint\u001b[0m\u001b[1;33m(\u001b[0m\u001b[0mmyTuple\u001b[0m\u001b[1;33m[\u001b[0m\u001b[1;36m9\u001b[0m\u001b[1;33m]\u001b[0m\u001b[1;33m)\u001b[0m\u001b[1;33m\u001b[0m\u001b[1;33m\u001b[0m\u001b[0m\n\u001b[0m",
      "\u001b[1;31mIndexError\u001b[0m: tuple index out of range"
     ]
    }
   ],
   "source": [
    "print(myTuple[9])"
   ]
  },
  {
   "cell_type": "code",
   "execution_count": 43,
   "id": "9eb8e258-cd60-4a6f-bd95-6477d3138faa",
   "metadata": {},
   "outputs": [
    {
     "ename": "TypeError",
     "evalue": "'tuple' object does not support item assignment",
     "output_type": "error",
     "traceback": [
      "\u001b[1;31m---------------------------------------------------------------------------\u001b[0m",
      "\u001b[1;31mTypeError\u001b[0m                                 Traceback (most recent call last)",
      "\u001b[1;32m<ipython-input-43-49e575771e78>\u001b[0m in \u001b[0;36m<module>\u001b[1;34m\u001b[0m\n\u001b[1;32m----> 1\u001b[1;33m \u001b[0mmyTuple\u001b[0m\u001b[1;33m[\u001b[0m\u001b[1;36m3\u001b[0m\u001b[1;33m]\u001b[0m\u001b[1;33m=\u001b[0m\u001b[1;34m\"String Val Changed\"\u001b[0m\u001b[1;33m\u001b[0m\u001b[1;33m\u001b[0m\u001b[0m\n\u001b[0m",
      "\u001b[1;31mTypeError\u001b[0m: 'tuple' object does not support item assignment"
     ]
    }
   ],
   "source": [
    "myTuple[3]=\"String Val Changed\""
   ]
  },
  {
   "cell_type": "code",
   "execution_count": null,
   "id": "cf77423a-a853-4d8f-9f8b-4376259a112e",
   "metadata": {},
   "outputs": [],
   "source": []
  },
  {
   "cell_type": "markdown",
   "id": "b1ec73e9-b022-42e9-b1b6-80be1bb7410d",
   "metadata": {},
   "source": [
    "Python Set"
   ]
  },
  {
   "cell_type": "code",
   "execution_count": 46,
   "id": "da7a59e0-47fb-4167-a67b-2ac80dcd141f",
   "metadata": {},
   "outputs": [
    {
     "name": "stdout",
     "output_type": "stream",
     "text": [
      "{0.76, 1, 2, 5, 6, 'String Val'}\n",
      "<class 'set'>\n"
     ]
    }
   ],
   "source": [
    "mySet={1,2,5,6,0.76,\"String Val\"}\n",
    "print(mySet)\n",
    "print(type(mySet))"
   ]
  },
  {
   "cell_type": "code",
   "execution_count": null,
   "id": "935a7722-35d3-4655-b82c-122a6167a7f0",
   "metadata": {},
   "outputs": [],
   "source": []
  },
  {
   "cell_type": "markdown",
   "id": "eeff1df1-87cd-472b-b138-93037a7b78f6",
   "metadata": {},
   "source": [
    "Python Dictonary(Key, Value Pair)"
   ]
  },
  {
   "cell_type": "code",
   "execution_count": 2,
   "id": "02d8ceec-45c3-4073-971f-87f623c7f134",
   "metadata": {},
   "outputs": [
    {
     "name": "stdout",
     "output_type": "stream",
     "text": [
      "{'key1': 'Val1', 'key2': 'Val2'}\n",
      "<class 'dict'>\n"
     ]
    }
   ],
   "source": [
    "myDictonary={\"key1\":\"Val1\",\"key2\":\"Val2\"}\n",
    "print(myDictonary)\n",
    "print(type(myDictonary))"
   ]
  },
  {
   "cell_type": "code",
   "execution_count": 6,
   "id": "5f3d776c-9fd3-4c10-b44c-7e73b582a27f",
   "metadata": {},
   "outputs": [
    {
     "name": "stdout",
     "output_type": "stream",
     "text": [
      "Val1\n"
     ]
    }
   ],
   "source": [
    "print(myDictonary.get(\"key1\"))"
   ]
  },
  {
   "cell_type": "code",
   "execution_count": 8,
   "id": "73fd0428-b3c2-4b79-a159-5c8e6a38cbca",
   "metadata": {},
   "outputs": [
    {
     "name": "stdout",
     "output_type": "stream",
     "text": [
      "{'key1': 'Val1', 'key2': 'val2 Changed'}\n"
     ]
    }
   ],
   "source": [
    "myDictonary[\"key2\"]=\"val2 Changed\"\n",
    "print(myDictonary)"
   ]
  },
  {
   "cell_type": "code",
   "execution_count": 12,
   "id": "c4e3193b-c273-425d-9b46-826fca936838",
   "metadata": {},
   "outputs": [
    {
     "name": "stdout",
     "output_type": "stream",
     "text": [
      "<built-in method keys of dict object at 0x000002650FEDE5C0>\n"
     ]
    },
    {
     "ename": "TypeError",
     "evalue": "object of type 'builtin_function_or_method' has no len()",
     "output_type": "error",
     "traceback": [
      "\u001b[1;31m---------------------------------------------------------------------------\u001b[0m",
      "\u001b[1;31mTypeError\u001b[0m                                 Traceback (most recent call last)",
      "\u001b[1;32m<ipython-input-12-e0d906b73959>\u001b[0m in \u001b[0;36m<module>\u001b[1;34m\u001b[0m\n\u001b[0;32m      1\u001b[0m \u001b[0mprint\u001b[0m\u001b[1;33m(\u001b[0m\u001b[0mmyDictonary\u001b[0m\u001b[1;33m.\u001b[0m\u001b[0mkeys\u001b[0m\u001b[1;33m)\u001b[0m\u001b[1;33m\u001b[0m\u001b[1;33m\u001b[0m\u001b[0m\n\u001b[1;32m----> 2\u001b[1;33m \u001b[0mprint\u001b[0m\u001b[1;33m(\u001b[0m\u001b[0mlen\u001b[0m\u001b[1;33m(\u001b[0m\u001b[0mmyDictonary\u001b[0m\u001b[1;33m.\u001b[0m\u001b[0mitems\u001b[0m\u001b[1;33m)\u001b[0m\u001b[1;33m)\u001b[0m\u001b[1;33m\u001b[0m\u001b[1;33m\u001b[0m\u001b[0m\n\u001b[0m",
      "\u001b[1;31mTypeError\u001b[0m: object of type 'builtin_function_or_method' has no len()"
     ]
    }
   ],
   "source": [
    "print(myDictonary.keys)\n",
    "print(len(myDictonary.items))"
   ]
  },
  {
   "cell_type": "code",
   "execution_count": 13,
   "id": "bbbca36c-e3a4-4286-ab8f-e47fed4347a6",
   "metadata": {},
   "outputs": [
    {
     "name": "stdout",
     "output_type": "stream",
     "text": [
      "2\n"
     ]
    }
   ],
   "source": [
    "print(len(myDictonary))"
   ]
  },
  {
   "cell_type": "code",
   "execution_count": null,
   "id": "14cc71b4-69a0-4861-b736-618c883b5b6f",
   "metadata": {},
   "outputs": [],
   "source": []
  },
  {
   "cell_type": "markdown",
   "id": "0e6ba1f3-9a3e-4eab-967e-7020c6aee156",
   "metadata": {},
   "source": [
    "Data Types Convesion"
   ]
  },
  {
   "cell_type": "code",
   "execution_count": 14,
   "id": "2bb4d3ed-f8af-4807-ad72-12444a0ae76e",
   "metadata": {},
   "outputs": [
    {
     "data": {
      "text/plain": [
       "10"
      ]
     },
     "execution_count": 14,
     "metadata": {},
     "output_type": "execute_result"
    }
   ],
   "source": [
    "int(10.20)"
   ]
  },
  {
   "cell_type": "code",
   "execution_count": 15,
   "id": "cbbbcc42-afe7-42df-b0f4-2f6fd7ece1b2",
   "metadata": {},
   "outputs": [
    {
     "data": {
      "text/plain": [
       "10.0"
      ]
     },
     "execution_count": 15,
     "metadata": {},
     "output_type": "execute_result"
    }
   ],
   "source": [
    "float(10)"
   ]
  },
  {
   "cell_type": "code",
   "execution_count": 16,
   "id": "ac01cd76-eb99-49a0-9cb6-808e2e6d8f6b",
   "metadata": {},
   "outputs": [
    {
     "data": {
      "text/plain": [
       "'10'"
      ]
     },
     "execution_count": 16,
     "metadata": {},
     "output_type": "execute_result"
    }
   ],
   "source": [
    "str(10)"
   ]
  },
  {
   "cell_type": "code",
   "execution_count": 17,
   "id": "51d9e8fa-ee4f-46a7-9565-8000f4825f85",
   "metadata": {},
   "outputs": [
    {
     "data": {
      "text/plain": [
       "10"
      ]
     },
     "execution_count": 17,
     "metadata": {},
     "output_type": "execute_result"
    }
   ],
   "source": [
    "int(\"10\")"
   ]
  },
  {
   "cell_type": "code",
   "execution_count": 18,
   "id": "c9732082-8d8d-43b5-a053-37cdb523ff3c",
   "metadata": {},
   "outputs": [
    {
     "ename": "ValueError",
     "evalue": "invalid literal for int() with base 10: '10.20'",
     "output_type": "error",
     "traceback": [
      "\u001b[1;31m---------------------------------------------------------------------------\u001b[0m",
      "\u001b[1;31mValueError\u001b[0m                                Traceback (most recent call last)",
      "\u001b[1;32m<ipython-input-18-8914b5cf82a4>\u001b[0m in \u001b[0;36m<module>\u001b[1;34m\u001b[0m\n\u001b[1;32m----> 1\u001b[1;33m \u001b[0mint\u001b[0m\u001b[1;33m(\u001b[0m\u001b[1;34m\"10.20\"\u001b[0m\u001b[1;33m)\u001b[0m\u001b[1;33m\u001b[0m\u001b[1;33m\u001b[0m\u001b[0m\n\u001b[0m",
      "\u001b[1;31mValueError\u001b[0m: invalid literal for int() with base 10: '10.20'"
     ]
    }
   ],
   "source": [
    "int(\"10.20\")"
   ]
  },
  {
   "cell_type": "code",
   "execution_count": 19,
   "id": "ea11d150-2ece-486a-a4b5-61cd05986e74",
   "metadata": {},
   "outputs": [
    {
     "data": {
      "text/plain": [
       "10.2"
      ]
     },
     "execution_count": 19,
     "metadata": {},
     "output_type": "execute_result"
    }
   ],
   "source": [
    "float(\"10.20\")"
   ]
  },
  {
   "cell_type": "code",
   "execution_count": 20,
   "id": "e1f3c950-c608-4bb1-85f0-fd600e105dda",
   "metadata": {},
   "outputs": [
    {
     "data": {
      "text/plain": [
       "10.0"
      ]
     },
     "execution_count": 20,
     "metadata": {},
     "output_type": "execute_result"
    }
   ],
   "source": [
    "float(\"10\")"
   ]
  },
  {
   "cell_type": "code",
   "execution_count": 21,
   "id": "4cbafe9b-c276-4066-bc87-cddd2bc9430c",
   "metadata": {},
   "outputs": [
    {
     "ename": "ValueError",
     "evalue": "could not convert string to float: 'test'",
     "output_type": "error",
     "traceback": [
      "\u001b[1;31m---------------------------------------------------------------------------\u001b[0m",
      "\u001b[1;31mValueError\u001b[0m                                Traceback (most recent call last)",
      "\u001b[1;32m<ipython-input-21-7a87ed75bebc>\u001b[0m in \u001b[0;36m<module>\u001b[1;34m\u001b[0m\n\u001b[1;32m----> 1\u001b[1;33m \u001b[0mfloat\u001b[0m\u001b[1;33m(\u001b[0m\u001b[1;34m\"test\"\u001b[0m\u001b[1;33m)\u001b[0m\u001b[1;33m\u001b[0m\u001b[1;33m\u001b[0m\u001b[0m\n\u001b[0m",
      "\u001b[1;31mValueError\u001b[0m: could not convert string to float: 'test'"
     ]
    }
   ],
   "source": [
    "float(\"test\")"
   ]
  },
  {
   "cell_type": "code",
   "execution_count": 24,
   "id": "54ae5818-175f-47b1-a7a1-04a9ea6ec31e",
   "metadata": {},
   "outputs": [
    {
     "name": "stdout",
     "output_type": "stream",
     "text": [
      "[10, 20, 'Test Val', 109.32]\n",
      "<class 'list'>\n"
     ]
    }
   ],
   "source": [
    "myList1=[10,20,\"Test Val\",109.32]\n",
    "print(myList1)\n",
    "print(type(myList1))"
   ]
  },
  {
   "cell_type": "code",
   "execution_count": 26,
   "id": "50d23e5c-c594-43cc-8faa-6c5800b09ba2",
   "metadata": {},
   "outputs": [
    {
     "name": "stdout",
     "output_type": "stream",
     "text": [
      "{10, 'Test Val', 20, 109.32}\n",
      "<class 'set'>\n"
     ]
    }
   ],
   "source": [
    "mySet1=set(myList1)\n",
    "print(mySet1)\n",
    "print(type(mySet1))"
   ]
  },
  {
   "cell_type": "code",
   "execution_count": 27,
   "id": "2d1576b8-15b9-45c2-b08c-3a1408cd1730",
   "metadata": {},
   "outputs": [
    {
     "name": "stdout",
     "output_type": "stream",
     "text": [
      "Data Sceince using Python\n"
     ]
    }
   ],
   "source": [
    "MyString1=\"Data Sceince using Python\"\n",
    "print(MyString1)"
   ]
  },
  {
   "cell_type": "code",
   "execution_count": 28,
   "id": "abb9392c-f38c-4fc5-bdf7-2885a6c63f9d",
   "metadata": {},
   "outputs": [
    {
     "name": "stdout",
     "output_type": "stream",
     "text": [
      "['D', 'a', 't', 'a', ' ', 'S', 'c', 'e', 'i', 'n', 'c', 'e', ' ', 'u', 's', 'i', 'n', 'g', ' ', 'P', 'y', 't', 'h', 'o', 'n']\n"
     ]
    }
   ],
   "source": [
    "myList2=list(MyString1)\n",
    "print(myList2)"
   ]
  },
  {
   "cell_type": "code",
   "execution_count": 29,
   "id": "850143bc-879f-4427-8275-79ec730b23a1",
   "metadata": {},
   "outputs": [
    {
     "name": "stdout",
     "output_type": "stream",
     "text": [
      "{'P', 'e', 'o', 'S', 't', 's', 'g', 'D', ' ', 'u', 'c', 'h', 'y', 'n', 'a', 'i'}\n"
     ]
    }
   ],
   "source": [
    "mySet2=set(MyString1)\n",
    "print(mySet2)"
   ]
  },
  {
   "cell_type": "code",
   "execution_count": null,
   "id": "779a3ba0-0da2-417f-b907-306077d96328",
   "metadata": {},
   "outputs": [],
   "source": []
  }
 ],
 "metadata": {
  "kernelspec": {
   "display_name": "Python 3",
   "language": "python",
   "name": "python3"
  },
  "language_info": {
   "codemirror_mode": {
    "name": "ipython",
    "version": 3
   },
   "file_extension": ".py",
   "mimetype": "text/x-python",
   "name": "python",
   "nbconvert_exporter": "python",
   "pygments_lexer": "ipython3",
   "version": "3.8.8"
  }
 },
 "nbformat": 4,
 "nbformat_minor": 5
}
