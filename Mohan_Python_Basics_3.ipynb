{
 "cells": [
  {
   "cell_type": "markdown",
   "id": "9fcaceba-7e24-4904-ae5e-56b70f1a8f73",
   "metadata": {},
   "source": [
    "Pyhthon I/O Fuctions\n",
    "Output"
   ]
  },
  {
   "cell_type": "code",
   "execution_count": 1,
   "id": "4af4a922-1573-489e-80d0-605955a828ff",
   "metadata": {},
   "outputs": [
    {
     "name": "stdout",
     "output_type": "stream",
     "text": [
      "201\n"
     ]
    }
   ],
   "source": [
    "myInt=201\n",
    "print(myInt)"
   ]
  },
  {
   "cell_type": "code",
   "execution_count": 2,
   "id": "d713124b-3591-4580-9e70-e3d09659526d",
   "metadata": {},
   "outputs": [
    {
     "name": "stdout",
     "output_type": "stream",
     "text": [
      "The value of myInt is= 201\n"
     ]
    }
   ],
   "source": [
    "print(\"The value of myInt is=\",myInt)"
   ]
  },
  {
   "cell_type": "code",
   "execution_count": 5,
   "id": "fe27ece6-83c3-4381-844e-acfb09f1fa29",
   "metadata": {},
   "outputs": [
    {
     "name": "stdout",
     "output_type": "stream",
     "text": [
      "The value of myInt is=201\n"
     ]
    }
   ],
   "source": [
    "print(\"The value of myInt is=\"+str(myInt))"
   ]
  },
  {
   "cell_type": "code",
   "execution_count": 12,
   "id": "85bf830e-3798-43db-8573-48e4ff85d375",
   "metadata": {},
   "outputs": [
    {
     "name": "stdout",
     "output_type": "stream",
     "text": [
      "myInt1: 20 is the half of myInt2: 40\n"
     ]
    }
   ],
   "source": [
    "myInt1=20\n",
    "myInt2=40\n",
    "print(\"myInt1: {} is the half of myInt2: {}\".format(myInt1,myInt2))"
   ]
  },
  {
   "cell_type": "code",
   "execution_count": 13,
   "id": "8c958820-4fab-482f-8e6d-11e9491d5018",
   "metadata": {},
   "outputs": [
    {
     "name": "stdout",
     "output_type": "stream",
     "text": [
      "myInt1: 20 is the half of myInt2: 40\n"
     ]
    }
   ],
   "source": [
    "print(\"myInt1: {0} is the half of myInt2: {1}\".format(myInt1,myInt2))"
   ]
  },
  {
   "cell_type": "code",
   "execution_count": 15,
   "id": "7fc91486-d523-43f1-a598-54c1fd3f0ea2",
   "metadata": {},
   "outputs": [
    {
     "name": "stdout",
     "output_type": "stream",
     "text": [
      "myInt1: 40 is the duouble of myInt2: 20\n"
     ]
    }
   ],
   "source": [
    "print(\"myInt1: {1} is the duouble of myInt2: {0}\".format(myInt1,myInt2))"
   ]
  },
  {
   "cell_type": "code",
   "execution_count": null,
   "id": "61c8c0df-d149-4706-a527-79ddd813185e",
   "metadata": {},
   "outputs": [],
   "source": []
  },
  {
   "cell_type": "markdown",
   "id": "cb6a239c-3641-44ed-98e5-71cfd425e966",
   "metadata": {},
   "source": [
    "Pyhthon I/O Fuctions\n",
    "Input"
   ]
  },
  {
   "cell_type": "code",
   "execution_count": 20,
   "id": "8acbd3c5-624e-4add-8edd-f508fe827653",
   "metadata": {},
   "outputs": [
    {
     "name": "stdin",
     "output_type": "stream",
     "text": [
      "Please Enter Integer val: 20\n"
     ]
    },
    {
     "name": "stdout",
     "output_type": "stream",
     "text": [
      "You Entered  20\n",
      "<class 'str'>\n"
     ]
    }
   ],
   "source": [
    "inputInt1=input(\"Please Enter Integer val:\")\n",
    "print(\"You Entered \",inputInt1)\n",
    "print(type(inputInt1))"
   ]
  },
  {
   "cell_type": "code",
   "execution_count": 19,
   "id": "a8c791b1-0790-4b55-a735-8620244201ba",
   "metadata": {},
   "outputs": [
    {
     "name": "stdin",
     "output_type": "stream",
     "text": [
      "Please Enter Integer val: 20.32\n"
     ]
    },
    {
     "name": "stdout",
     "output_type": "stream",
     "text": [
      "You Entered  20.32\n",
      "<class 'str'>\n"
     ]
    }
   ],
   "source": [
    "floatInt1=input(\"Please Enter Integer val:\")\n",
    "print(\"You Entered \",floatInt1)\n",
    "print(type(floatInt1))"
   ]
  },
  {
   "cell_type": "code",
   "execution_count": 21,
   "id": "3b4a5854-7c81-4c34-ac54-9375ef6f3e29",
   "metadata": {},
   "outputs": [
    {
     "name": "stdout",
     "output_type": "stream",
     "text": [
      "20\n",
      "<class 'int'>\n"
     ]
    }
   ],
   "source": [
    "inputInt2=int(inputInt1)\n",
    "print(inputInt2)\n",
    "print(type(inputInt2))"
   ]
  },
  {
   "cell_type": "code",
   "execution_count": null,
   "id": "d7a8ba2f-a596-44f3-bbc6-32be065d70ab",
   "metadata": {},
   "outputs": [],
   "source": []
  }
 ],
 "metadata": {
  "kernelspec": {
   "display_name": "Python 3",
   "language": "python",
   "name": "python3"
  },
  "language_info": {
   "codemirror_mode": {
    "name": "ipython",
    "version": 3
   },
   "file_extension": ".py",
   "mimetype": "text/x-python",
   "name": "python",
   "nbconvert_exporter": "python",
   "pygments_lexer": "ipython3",
   "version": "3.8.8"
  }
 },
 "nbformat": 4,
 "nbformat_minor": 5
}
