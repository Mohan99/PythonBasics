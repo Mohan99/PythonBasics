{
 "cells": [
  {
   "cell_type": "markdown",
   "id": "8f31cd93-6d10-4a4b-9746-168c7bad6a53",
   "metadata": {},
   "source": [
    "Python Operators\n",
    "\n",
    "1. Arithmetic operators\n",
    "    \n",
    "2. Comparison (Relational) operators\n",
    "\n",
    "3. Logical (Boolean) operators\n",
    "\n",
    "4. Bitwise operators\n",
    "\n",
    "5. Assignment operators\n",
    "\n",
    "6. Special operators"
   ]
  },
  {
   "cell_type": "code",
   "execution_count": 3,
   "id": "964385cc-3a7b-4bd9-b30a-5c0bca04aa0f",
   "metadata": {},
   "outputs": [
    {
     "name": "stdout",
     "output_type": "stream",
     "text": [
      "30\n",
      "-10\n",
      "200\n",
      "0.5\n",
      "0\n",
      "100000000000000000000\n",
      "10\n"
     ]
    }
   ],
   "source": [
    "myInt1, myInt2=10,20\n",
    "print(myInt1+myInt2)\n",
    "print(myInt1-myInt2)\n",
    "print(myInt1*myInt2)\n",
    "print(myInt1/myInt2)\n",
    "print(myInt1//myInt2)\n",
    "print(myInt1**myInt2)\n",
    "print(myInt1%myInt2)"
   ]
  },
  {
   "cell_type": "code",
   "execution_count": 4,
   "id": "1a7720ea-ad55-4819-a180-e15e353b12c1",
   "metadata": {},
   "outputs": [
    {
     "name": "stdout",
     "output_type": "stream",
     "text": [
      "True\n",
      "True\n",
      "False\n",
      "False\n",
      "False\n",
      "True\n"
     ]
    }
   ],
   "source": [
    "print(myInt1<myInt2)\n",
    "print(myInt1<=myInt2)\n",
    "print(myInt1>myInt2)\n",
    "print(myInt1>=myInt2)\n",
    "print(myInt1==myInt2)\n",
    "print(myInt1!=myInt2)"
   ]
  },
  {
   "cell_type": "code",
   "execution_count": 7,
   "id": "782df4cb-b547-4379-a4c2-d5d9b30b957d",
   "metadata": {},
   "outputs": [
    {
     "name": "stdout",
     "output_type": "stream",
     "text": [
      "False\n",
      "True\n",
      "True\n"
     ]
    }
   ],
   "source": [
    "myBool1,myBool2=True,False\n",
    "print(myBool1 and myBool2)\n",
    "print(myBool1 or myBool2)\n",
    "print(not myBool2)"
   ]
  },
  {
   "cell_type": "code",
   "execution_count": 9,
   "id": "39914922-fef2-4aa4-acc1-2bc2aff127c6",
   "metadata": {},
   "outputs": [
    {
     "name": "stdout",
     "output_type": "stream",
     "text": [
      "44\n",
      "37\n",
      "148\n",
      "37.0\n",
      "17.0\n",
      "4.0\n",
      "256.0\n"
     ]
    }
   ],
   "source": [
    "age = 40\n",
    "\n",
    "age += 4        # Add AND  <- age = age + 4\n",
    "print(age)\n",
    "\n",
    "age -= 7        # Subtract AND (-=)\n",
    "print(age)\n",
    "\n",
    "age *= 4        # Multiply AND (*=)\n",
    "print(age)\n",
    "\n",
    "age /= 4        # Divide AND (/=)\n",
    "print(age)\n",
    "\n",
    "age %= 20       # Modulus AND (%=)\n",
    "print(age)\n",
    "\n",
    "age //= 4       # Floor Division (//=)\n",
    "print(age)\n",
    "\n",
    "age **= 4       # Exponent AND (**=)\n",
    "print(age)"
   ]
  },
  {
   "cell_type": "code",
   "execution_count": 10,
   "id": "66bc9103-c16a-4abc-a905-20edd5e6723a",
   "metadata": {},
   "outputs": [
    {
     "name": "stdout",
     "output_type": "stream",
     "text": [
      "True\n",
      "False\n"
     ]
    }
   ],
   "source": [
    "variable1 = 20\n",
    "variable2 = 20\n",
    "print(variable1 is variable2)            # 20 is created once & both variable1 and variable2 points to same object\n",
    "\n",
    "#check is not\n",
    "print(variable1 is not variable2)"
   ]
  },
  {
   "cell_type": "code",
   "execution_count": 11,
   "id": "b71e45b3-77d0-4b8a-8ede-ed211af845ac",
   "metadata": {},
   "outputs": [
    {
     "name": "stdout",
     "output_type": "stream",
     "text": [
      "True\n",
      "False\n"
     ]
    }
   ],
   "source": [
    "variable3 = \"String1\"\n",
    "variable4 = \"String1\"\n",
    "print(variable3 is variable4)            # 20 is created once & both variable1 and variable2 points to same object\n",
    "\n",
    "#check is not\n",
    "print(variable3 is not variable4)"
   ]
  },
  {
   "cell_type": "code",
   "execution_count": 15,
   "id": "7bddadca-2977-4e4b-b8ce-ad0bd039ea1a",
   "metadata": {},
   "outputs": [
    {
     "name": "stdout",
     "output_type": "stream",
     "text": [
      "False\n",
      "True\n",
      "True\n",
      "True\n"
     ]
    }
   ],
   "source": [
    "myList1 = [1,2,3]\n",
    "myList2 = [1,2,3]\n",
    "\n",
    "print(myList1 is myList2)\n",
    "print(myList1 is not myList2)\n",
    "print(myList1 == myList2)\n",
    "print(myList1[0] is myList2[0])"
   ]
  },
  {
   "cell_type": "code",
   "execution_count": 17,
   "id": "b203f0e8-cde9-477f-b7cf-09224af685a7",
   "metadata": {},
   "outputs": [
    {
     "name": "stdout",
     "output_type": "stream",
     "text": [
      "True\n",
      "False\n"
     ]
    }
   ],
   "source": [
    "myList3 = ['a', 22, 'b', 100]\n",
    "print(22 in myList3)                  # Check if 22 is present in the given list or not\n",
    "\n",
    "print('d' in myList3) "
   ]
  },
  {
   "cell_type": "code",
   "execution_count": 18,
   "id": "ac450091-9345-4087-abe4-2ed6da8d8541",
   "metadata": {},
   "outputs": [
    {
     "name": "stdout",
     "output_type": "stream",
     "text": [
      "True\n"
     ]
    }
   ],
   "source": [
    "myDictionary = {125 : 'Apple', 200 : 'Banana'}\n",
    "print(125 in myDictionary)"
   ]
  },
  {
   "cell_type": "code",
   "execution_count": 19,
   "id": "8dbc317f-3720-4331-a12d-edb35c03180b",
   "metadata": {},
   "outputs": [
    {
     "name": "stdout",
     "output_type": "stream",
     "text": [
      "False\n"
     ]
    }
   ],
   "source": [
    "print(\"Apple\" in myDictionary)"
   ]
  },
  {
   "cell_type": "code",
   "execution_count": 20,
   "id": "66ade6c0-1dd0-4c8e-bbb9-6a71a0e10459",
   "metadata": {},
   "outputs": [
    {
     "name": "stdout",
     "output_type": "stream",
     "text": [
      "Outside if block\n"
     ]
    }
   ],
   "source": [
    "number = 20\n",
    "\n",
    "if number<15:\n",
    "    print('Number is less than 15')\n",
    "print('Outside if block')"
   ]
  },
  {
   "cell_type": "code",
   "execution_count": 25,
   "id": "faa24c19-7010-4a63-8e56-e632da2ca588",
   "metadata": {},
   "outputs": [
    {
     "name": "stdout",
     "output_type": "stream",
     "text": [
      "Number is greater than 15\n",
      "Outside if block\n"
     ]
    }
   ],
   "source": [
    "number = 20\n",
    "\n",
    "if number<15:\n",
    "    print('Number is less than 15')\n",
    "else:\n",
    "    print('Number is greater than 15')\n",
    "print('Outside if block')"
   ]
  },
  {
   "cell_type": "code",
   "execution_count": 33,
   "id": "a4342f3a-5941-4f44-be7a-0ab48a1cd341",
   "metadata": {},
   "outputs": [
    {
     "name": "stdout",
     "output_type": "stream",
     "text": [
      "Teen\n"
     ]
    }
   ],
   "source": [
    "age=15\n",
    "if age<20 and age>10:\n",
    "    print(\"Teen\")\n",
    "elif age>=20:\n",
    "    print(\"Adult\")\n",
    "elif(age<10):\n",
    "    print(\"Child\")"
   ]
  },
  {
   "cell_type": "code",
   "execution_count": 38,
   "id": "0aba170f-9018-4ea3-871c-ae7e1a6bd49f",
   "metadata": {},
   "outputs": [
    {
     "name": "stdout",
     "output_type": "stream",
     "text": [
      "1\n",
      "2\n",
      "10\n",
      "19\n",
      "String1\n"
     ]
    }
   ],
   "source": [
    "myList=[1,2,10,19,\"String1\"]\n",
    "index=0\n",
    "while(index<len(myList)):\n",
    "    print(myList[index])\n",
    "    #index++\n",
    "    index+=1"
   ]
  },
  {
   "cell_type": "code",
   "execution_count": null,
   "id": "8753b245-15dd-4f5b-8d3b-9c976d90bf82",
   "metadata": {},
   "outputs": [],
   "source": []
  },
  {
   "cell_type": "markdown",
   "id": "ed4ed12a-dc6c-4d0b-9e44-f54f49a7a554",
   "metadata": {},
   "source": [
    "Factorial Number"
   ]
  },
  {
   "cell_type": "code",
   "execution_count": 40,
   "id": "2be4ae17-2a3b-4a21-a080-fff055e7360b",
   "metadata": {},
   "outputs": [
    {
     "name": "stdin",
     "output_type": "stream",
     "text": [
      "Enter a positive non-zero number:  -10\n"
     ]
    },
    {
     "name": "stdout",
     "output_type": "stream",
     "text": [
      "Invalid number please re-enter\n"
     ]
    },
    {
     "name": "stdin",
     "output_type": "stream",
     "text": [
      "Enter a positive non-zero number:  -10\n"
     ]
    }
   ],
   "source": [
    "userInput = input(\"Enter a positive non-zero number: \")\n",
    "number = int(userInput)\n",
    "\n",
    "if number <= 0:\n",
    "    print('Invalid number please re-enter')\n",
    "    userInput = input(\"Enter a positive non-zero number: \")\n",
    "    number = int(userInput)\n",
    "    \n",
    "else:\n",
    "    print('Thank you, let me share the result with you')\n",
    "\n",
    "fact = 1\n",
    "if number > 0:\n",
    "    while number > 0:\n",
    "        fact *= number                                      # fact = fact * number\n",
    "        number -= 1                                         # number = number -1\n",
    "    print('The factorial of the number is: ', fact)"
   ]
  },
  {
   "cell_type": "code",
   "execution_count": null,
   "id": "7e9ddbdc-2616-4313-a2ba-d87030377bf6",
   "metadata": {},
   "outputs": [],
   "source": []
  },
  {
   "cell_type": "markdown",
   "id": "0defc1f2-4997-4813-b231-87a9185d3fc8",
   "metadata": {},
   "source": [
    "For Loop"
   ]
  },
  {
   "cell_type": "code",
   "execution_count": 41,
   "id": "1ae639a2-c14c-4d2c-8af0-b867420b9877",
   "metadata": {},
   "outputs": [
    {
     "name": "stdout",
     "output_type": "stream",
     "text": [
      "1\n",
      "29.38\n",
      "39\n",
      "17\n"
     ]
    }
   ],
   "source": [
    "myLits11=[1,29.38,39,17]\n",
    "for i in range(len(myLits11)):\n",
    "    print(myLits11[i])"
   ]
  },
  {
   "cell_type": "code",
   "execution_count": 42,
   "id": "9ec1522a-b377-4d2b-8e28-e62472c0f626",
   "metadata": {},
   "outputs": [
    {
     "name": "stdout",
     "output_type": "stream",
     "text": [
      "1\n",
      "4\n",
      "7\n",
      "10\n",
      "13\n",
      "16\n",
      "19\n",
      "22\n",
      "25\n",
      "28\n",
      "31\n",
      "34\n",
      "37\n"
     ]
    }
   ],
   "source": [
    "# Print range numbers from 0 to 40 but with step size of 12\n",
    "for element in range(1,40,3):\n",
    "    print(element)"
   ]
  },
  {
   "cell_type": "code",
   "execution_count": 45,
   "id": "7c5522f9-ae6d-4e30-a893-840bda4b45ec",
   "metadata": {},
   "outputs": [
    {
     "name": "stdin",
     "output_type": "stream",
     "text": [
      "Please enter a positive number:  10\n"
     ]
    },
    {
     "name": "stdout",
     "output_type": "stream",
     "text": [
      "[1, 2, 5]\n"
     ]
    }
   ],
   "source": [
    "inputNumber = input(\"Please enter a positive number: \")\n",
    "number = int(inputNumber)\n",
    "listOfDivisors = [1]\n",
    "\n",
    "for divisor in range(2,int(number/2)+1):               # divisor -> 2.3.4.5.6.7.8....... int(num/2) + 1\n",
    "    if(number%divisor == 0):\n",
    "        listOfDivisors.append(divisor)\n",
    "else:\n",
    "    print(listOfDivisors)"
   ]
  },
  {
   "cell_type": "code",
   "execution_count": null,
   "id": "206f9370-1f10-425a-8acf-cd12fcda4e73",
   "metadata": {},
   "outputs": [],
   "source": []
  }
 ],
 "metadata": {
  "kernelspec": {
   "display_name": "Python 3",
   "language": "python",
   "name": "python3"
  },
  "language_info": {
   "codemirror_mode": {
    "name": "ipython",
    "version": 3
   },
   "file_extension": ".py",
   "mimetype": "text/x-python",
   "name": "python",
   "nbconvert_exporter": "python",
   "pygments_lexer": "ipython3",
   "version": "3.8.8"
  }
 },
 "nbformat": 4,
 "nbformat_minor": 5
}
